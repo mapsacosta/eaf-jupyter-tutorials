{
 "cells": [
  {
   "cell_type": "markdown",
   "id": "a1bba9f1-bf0d-43da-83d0-45aa214e7a0a",
   "metadata": {},
   "source": [
    "### ACSYS-py example notebook\n",
    "* The following code will import the required libraries to perform data acquisition on the ACNET control system via Python\n",
    "* We achieve this through the acsys-py library, which is installed by default in all ACORN notbeooks "
   ]
  },
  {
   "cell_type": "code",
   "execution_count": null,
   "id": "b98a5777-a66b-4870-b8a3-5059ca06a7fa",
   "metadata": {},
   "outputs": [],
   "source": [
    "import logging\n",
    "import sys\n",
    "import acsys.dpm\n",
    "\n",
    "_log = logging.getLogger('acsys')\n",
    "_log.setLevel('DEBUG')\n",
    "handler = logging.StreamHandler(sys.stdout)\n",
    "_log.addHandler(handler)"
   ]
  },
  {
   "cell_type": "code",
   "execution_count": null,
   "id": "a53f1bf5-de40-44a8-9f5f-617969d615b8",
   "metadata": {},
   "outputs": [],
   "source": [
    "# Modify the dpm entry to reflect the device(s) you need. This is DRF format\n",
    "async def pull_dpm(con):\n",
    "    # Setup context\n",
    "    async with acsys.dpm.DPMContext(con) as dpm:\n",
    "        # Add acquisition requests\n",
    "        await dpm.add_entry(0, f'G:SCTIME<-LOGGERDURATION:{10*60*1000}')\n",
    "        # Start acquisition\n",
    "        await dpm.start()\n",
    "        # Process incoming data\n",
    "        async for evt_res in dpm:\n",
    "            print(evt_res)\n",
    "\n",
    "            if evt_res.data == []:\n",
    "                print(\"No data\")\n",
    "                break"
   ]
  },
  {
   "cell_type": "code",
   "execution_count": null,
   "id": "e917d150-3f79-4bd9-9b3b-a8b8bc674950",
   "metadata": {},
   "outputs": [],
   "source": [
    "# Finally, execute this cell to trigger acsys to gather the data\n",
    "acsys.run_client(pull_dpm)"
   ]
  }
 ],
 "metadata": {
  "kernelspec": {
   "display_name": "Python 3 (ipykernel)",
   "language": "python",
   "name": "py3-preamble"
  },
  "language_info": {
   "codemirror_mode": {
    "name": "ipython",
    "version": 3
   },
   "file_extension": ".py",
   "mimetype": "text/x-python",
   "name": "python",
   "nbconvert_exporter": "python",
   "pygments_lexer": "ipython3",
   "version": "3.9.15"
  }
 },
 "nbformat": 4,
 "nbformat_minor": 5
}
